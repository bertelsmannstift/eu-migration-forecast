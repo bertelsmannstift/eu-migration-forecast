{
 "cells": [
  {
   "cell_type": "code",
   "execution_count": 13,
   "metadata": {},
   "outputs": [],
   "source": [
    "import pandas as pd\n",
    "import json\n",
    "import datetime as dt\n",
    "import warnings\n",
    "import os\n"
   ]
  },
  {
   "cell_type": "code",
   "execution_count": 18,
   "metadata": {},
   "outputs": [
    {
     "name": "stdout",
     "output_type": "stream",
     "text": [
      "Januar\n",
      "Februar\n",
      "März\n",
      "April\n",
      "Mai\n",
      "Juni\n",
      "Juli\n",
      "August\n",
      "September\n",
      "Oktober\n",
      "November\n",
      "Dezember\n"
     ]
    },
    {
     "data": {
      "text/html": "<div>\n<style scoped>\n    .dataframe tbody tr th:only-of-type {\n        vertical-align: middle;\n    }\n\n    .dataframe tbody tr th {\n        vertical-align: top;\n    }\n\n    .dataframe thead th {\n        text-align: right;\n    }\n</style>\n<table border=\"1\" class=\"dataframe\">\n  <thead>\n    <tr style=\"text-align: right;\">\n      <th></th>\n      <th>date</th>\n      <th>country</th>\n      <th>value</th>\n    </tr>\n  </thead>\n  <tbody>\n    <tr>\n      <th>0</th>\n      <td>2014-01-01</td>\n      <td>FR</td>\n      <td>1783</td>\n    </tr>\n    <tr>\n      <th>1</th>\n      <td>2014-01-01</td>\n      <td>GB</td>\n      <td>1518</td>\n    </tr>\n    <tr>\n      <th>2</th>\n      <td>2014-01-01</td>\n      <td>ES</td>\n      <td>3417</td>\n    </tr>\n    <tr>\n      <th>3</th>\n      <td>2014-01-01</td>\n      <td>PL</td>\n      <td>14887</td>\n    </tr>\n    <tr>\n      <th>4</th>\n      <td>2014-01-01</td>\n      <td>RO</td>\n      <td>15556</td>\n    </tr>\n    <tr>\n      <th>...</th>\n      <td>...</td>\n      <td>...</td>\n      <td>...</td>\n    </tr>\n    <tr>\n      <th>619</th>\n      <td>2015-12-01</td>\n      <td>SI</td>\n      <td>312</td>\n    </tr>\n    <tr>\n      <th>620</th>\n      <td>2015-12-01</td>\n      <td>LV</td>\n      <td>318</td>\n    </tr>\n    <tr>\n      <th>621</th>\n      <td>2015-12-01</td>\n      <td>EE</td>\n      <td>54</td>\n    </tr>\n    <tr>\n      <th>622</th>\n      <td>2015-12-01</td>\n      <td>CY</td>\n      <td>64</td>\n    </tr>\n    <tr>\n      <th>623</th>\n      <td>2015-12-01</td>\n      <td>LU</td>\n      <td>239</td>\n    </tr>\n  </tbody>\n</table>\n<p>624 rows × 3 columns</p>\n</div>",
      "text/plain": "          date country  value\n0   2014-01-01      FR   1783\n1   2014-01-01      GB   1518\n2   2014-01-01      ES   3417\n3   2014-01-01      PL  14887\n4   2014-01-01      RO  15556\n..         ...     ...    ...\n619 2015-12-01      SI    312\n620 2015-12-01      LV    318\n621 2015-12-01      EE     54\n622 2015-12-01      CY     64\n623 2015-12-01      LU    239\n\n[624 rows x 3 columns]"
     },
     "metadata": {},
     "output_type": "display_data"
    }
   ],
   "source": [
    "INPUT_FILE = \"2015.xlsx\"\n",
    "YEAR = 2015\n",
    "\n",
    "DIR = \"../migration_rates\"\n",
    "OUTPUT_FILE = \"migration_rate_processed.csv\"\n",
    "COUNTRY_CONFIG_FILE = \"countries.json\"\n",
    "\n",
    "MONTHS = {\n",
    "    1: \"Januar\",\n",
    "    2: \"Februar\",\n",
    "    3: \"März\",\n",
    "    4: \"April\",\n",
    "    5: \"Mai\",\n",
    "    6: \"Juni\",\n",
    "    7: \"Juli\",\n",
    "    8: \"August\",\n",
    "    9: \"September\",\n",
    "    10: \"Oktober\",\n",
    "    11: \"November\",\n",
    "    12: \"Dezember\",\n",
    "}\n",
    "\n",
    "# read existing output file, otherwise create new df\n",
    "try:\n",
    "    data = pd.read_csv(os.path.join(DIR, OUTPUT_FILE), index_col=0)\n",
    "except:\n",
    "    data = pd.DataFrame(columns=[\"date\", \"country\", \"value\"])\n",
    "\n",
    "data[\"date\"] = pd.to_datetime(data[\"date\"])\n",
    "\n",
    "# remove all entries from given year if exist\n",
    "data = data[data[\"date\"].dt.year != YEAR]\n",
    "\n",
    "with open(os.path.join(DIR, COUNTRY_CONFIG_FILE)) as f:\n",
    "    countries = json.load(f)\n",
    "\n",
    "for m, m_name in MONTHS.items():\n",
    "\n",
    "    print(m_name)\n",
    "\n",
    "    date = dt.datetime(YEAR, m, 1)\n",
    "    df_tmp = pd.read_excel(\n",
    "        os.path.join(DIR, INPUT_FILE),\n",
    "        sheet_name=m_name,\n",
    "        usecols=[0, 2],\n",
    "        skiprows=2,\n",
    "        nrows=172,\n",
    "    )\n",
    "\n",
    "    df_tmp.columns = [\"country\", \"value\"]\n",
    "\n",
    "    for c, c_name in countries.items():\n",
    "        try:\n",
    "            value = df_tmp[df_tmp[\"country\"] == c_name][\"value\"].iloc[0]\n",
    "        except:\n",
    "            warnings.warn(f\"No data for country {c_name}\")\n",
    "            continue\n",
    "\n",
    "        data = data.append(\n",
    "            {\"date\": date, \"country\": c, \"value\": value}, ignore_index=True\n",
    "        )\n",
    "\n",
    "data.sort_values(by=\"date\").to_csv(os.path.join(DIR, OUTPUT_FILE))\n"
   ]
  },
  {
   "cell_type": "code",
   "execution_count": 17,
   "metadata": {},
   "outputs": [],
   "source": []
  },
  {
   "cell_type": "code",
   "execution_count": null,
   "metadata": {},
   "outputs": [],
   "source": []
  }
 ],
 "metadata": {
  "kernelspec": {
   "display_name": "Python 3.9.1 64-bit ('eumf': conda)",
   "name": "python391jvsc74a57bd024329e4c78b2217f137a92d544ee0369dd3e1011f08566b816d0fd34a58d6b3c"
  },
  "language_info": {
   "codemirror_mode": {
    "name": "ipython",
    "version": 3
   },
   "file_extension": ".py",
   "mimetype": "text/x-python",
   "name": "python",
   "nbconvert_exporter": "python",
   "pygments_lexer": "ipython3",
   "version": "3.9.1"
  },
  "orig_nbformat": 2
 },
 "nbformat": 4,
 "nbformat_minor": 2
}