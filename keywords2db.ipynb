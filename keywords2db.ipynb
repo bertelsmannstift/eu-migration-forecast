{
    "cells": [
        {
            "cell_type": "code",
            "execution_count": 2,
            "source": [
                "import pandas as pd\n",
                "\n",
                "KEYWORD_FILE = \"keywords/keywords-prototype-21-04-22.xlsx\"\n",
                "DATA_VERSION = \"21-04-22\"\n",
                "\n",
                "df_keywords = pd.read_excel(KEYWORD_FILE)\n",
                "\n",
                "df_keywords = df_keywords.loc[~df_keywords[\"KeywordID\"].isna()]\n",
                "df_keywords[\"KeywordID\"] = df_keywords[\"KeywordID\"].astype(int)\n"
            ],
            "outputs": [
                {
                    "output_type": "stream",
                    "name": "stderr",
                    "text": [
                        "/root/.local/lib/python3.9/site-packages/openpyxl/worksheet/_reader.py:312: UserWarning: Unknown extension is not supported and will be removed\n",
                        "  warn(msg)\n"
                    ]
                }
            ],
            "metadata": {}
        },
        {
            "cell_type": "code",
            "execution_count": 3,
            "source": [
                "languages = set(df_keywords.columns)\n",
                "languages.remove('FlagWithoutGermany')\n",
                "languages.remove('KeywordID')\n",
                "languages\n"
            ],
            "outputs": [
                {
                    "output_type": "execute_result",
                    "data": {
                        "text/plain": [
                            "{'BG',\n",
                            " 'CS',\n",
                            " 'DA',\n",
                            " 'DE',\n",
                            " 'EL',\n",
                            " 'EN',\n",
                            " 'ES',\n",
                            " 'ET',\n",
                            " 'FI',\n",
                            " 'FR',\n",
                            " 'HR',\n",
                            " 'HU',\n",
                            " 'IT',\n",
                            " 'LI',\n",
                            " 'LV',\n",
                            " 'NL',\n",
                            " 'PL',\n",
                            " 'PT',\n",
                            " 'RO',\n",
                            " 'SK',\n",
                            " 'SL',\n",
                            " 'SV'}"
                        ]
                    },
                    "metadata": {},
                    "execution_count": 3
                }
            ],
            "metadata": {}
        },
        {
            "cell_type": "code",
            "execution_count": 4,
            "source": [
                "from sqlalchemy import create_engine, select, MetaData, Table, and_\n",
                "from sqlalchemy.engine import URL\n",
                "from io import StringIO\n",
                "import csv\n",
                "\n",
                "connection_string = URL.create(\n",
                "    drivername='postgresql+psycopg2',\n",
                "    username='postgres',\n",
                "    password='postgres',\n",
                "    host='localhost',\n",
                "    port='5432',\n",
                "    database='postgres')\n",
                "\n",
                "engine = create_engine(\n",
                "    connection_string)\n",
                "metadata = MetaData(bind=None)\n",
                "\n",
                "\n",
                "def psql_insert_copy(table, conn, keys, data_iter):\n",
                "    # gets a DBAPI connection that can provide a cursor\n",
                "    dbapi_conn = conn.connection\n",
                "    with dbapi_conn.cursor() as cur:\n",
                "        s_buf = StringIO()\n",
                "        writer = csv.writer(s_buf)\n",
                "        writer.writerows(data_iter)\n",
                "        s_buf.seek(0)\n",
                "\n",
                "        columns = ', '.join('\"{}\"'.format(k) for k in keys)\n",
                "        if table.schema:\n",
                "            table_name = '{}.{}'.format(table.schema, table.name)\n",
                "        else:\n",
                "            table_name = table.name\n",
                "\n",
                "        sql = 'COPY {} ({}) FROM STDIN WITH CSV'.format(\n",
                "            table_name, columns)\n",
                "        cur.copy_expert(sql=sql, file=s_buf)\n",
                "\n",
                "\n",
                "def get_language_id(language):\n",
                "\n",
                "    table = Table(\n",
                "        'l_language',\n",
                "        metadata,\n",
                "        schema='trend',\n",
                "        autoload=True,\n",
                "        autoload_with=engine\n",
                "    )\n",
                "\n",
                "    stmt = select([table.columns.id]).where(\n",
                "        table.columns.short == language)\n",
                "    conn = engine.connect()\n",
                "    return conn.execute(stmt).first()\n",
                "\n",
                "def get_version_id(version):\n",
                "    table = Table(\n",
                "        'l_version',\n",
                "        metadata,\n",
                "        schema='trend',\n",
                "        autoload=True,\n",
                "        autoload_with=engine\n",
                "    )\n",
                "\n",
                "    stmt = select([table.columns.id]).where(\n",
                "        table.columns.version == version)\n",
                "    conn = engine.connect()\n",
                "    return conn.execute(stmt).first()\n",
                "# test.to_sql('l_keyword', engine, method=psql_insert_copy)\n"
            ],
            "outputs": [],
            "metadata": {}
        },
        {
            "cell_type": "code",
            "execution_count": 5,
            "source": [
                "version_id = get_version_id(DATA_VERSION)[0]\n",
                "\n",
                "for language in languages:\n",
                "    if 'keywords' in globals():\n",
                "        del keywords\n",
                "    print(language)\n",
                "    language_id = get_language_id(language)[0]\n",
                "    keywords = df_keywords[['KeywordID', language, 'FlagWithoutGermany']].copy()\n",
                "    keywords.loc[:, ('FlagWithoutGermany')] = keywords.apply(\n",
                "        lambda row: 0 if row.isna()[\"FlagWithoutGermany\"]\n",
                "        else 1,\n",
                "        axis=1\n",
                "    ).astype('bool')\n",
                "    keywords.loc[:,'language_id'] = language_id\n",
                "    keywords.loc[:,'version_id'] = version_id\n",
                "    keywords.rename(columns = {'KeywordID':'keyword_id', 'FlagWithoutGermany':'without_germany', language:'keyword', 'index':'id'}, inplace=True)\n",
                "    keywords = keywords[['keyword_id', 'language_id', 'version_id', 'without_germany', 'keyword']]\n",
                "    keywords.to_sql('l_keyword', engine, schema='trend', method=psql_insert_copy, if_exists='append', index=False)\n",
                "\n"
            ],
            "outputs": [
                {
                    "output_type": "stream",
                    "name": "stdout",
                    "text": [
                        "PL\n",
                        "CS\n",
                        "ES\n",
                        "NL\n",
                        "EL\n",
                        "HR\n",
                        "FR\n",
                        "SV\n",
                        "EN\n",
                        "IT\n",
                        "DA\n",
                        "SK\n",
                        "LV\n",
                        "RO\n",
                        "LI\n",
                        "ET\n",
                        "DE\n",
                        "PT\n",
                        "HU\n",
                        "BG\n",
                        "SL\n",
                        "FI\n"
                    ]
                }
            ],
            "metadata": {}
        }
    ],
    "metadata": {
        "orig_nbformat": 4,
        "language_info": {
            "name": "python",
            "version": "3.9.6",
            "mimetype": "text/x-python",
            "codemirror_mode": {
                "name": "ipython",
                "version": 3
            },
            "pygments_lexer": "ipython3",
            "nbconvert_exporter": "python",
            "file_extension": ".py"
        },
        "kernelspec": {
            "name": "python3",
            "display_name": "Python 3.9.6 64-bit"
        },
        "interpreter": {
            "hash": "4cd7ab41f5fca4b9b44701077e38c5ffd31fe66a6cab21e0214b68d958d0e462"
        }
    },
    "nbformat": 4,
    "nbformat_minor": 2
}