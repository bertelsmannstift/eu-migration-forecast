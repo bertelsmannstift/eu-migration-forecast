{
    "cells": [
        {
            "cell_type": "code",
            "execution_count": 1,
            "source": [
                "import pandas as pd\n",
                "\n",
                "KEYWORD_FILE = \"keywords/keywords-prototype-21-04-22.xlsx\"\n",
                "DATA_VERSION = \"21-04-22\"\n",
                "\n",
                "df_keywords = pd.read_excel(KEYWORD_FILE)\n",
                "\n",
                "df_keywords = df_keywords.loc[~df_keywords[\"KeywordID\"].isna()]\n",
                "df_keywords[\"KeywordID\"] = df_keywords[\"KeywordID\"].astype(int)\n"
            ],
            "outputs": [
                {
                    "output_type": "stream",
                    "name": "stderr",
                    "text": [
                        "/root/.local/lib/python3.9/site-packages/openpyxl/worksheet/_reader.py:312: UserWarning: Unknown extension is not supported and will be removed\n",
                        "  warn(msg)\n"
                    ]
                }
            ],
            "metadata": {}
        },
        {
            "cell_type": "code",
            "execution_count": 2,
            "source": [
                "languages = set(df_keywords.columns)\n",
                "languages.remove('FlagWithoutGermany')\n",
                "languages.remove('KeywordID')\n",
                "languages\n"
            ],
            "outputs": [
                {
                    "output_type": "execute_result",
                    "data": {
                        "text/plain": [
                            "{'BG',\n",
                            " 'CS',\n",
                            " 'DA',\n",
                            " 'DE',\n",
                            " 'EL',\n",
                            " 'EN',\n",
                            " 'ES',\n",
                            " 'ET',\n",
                            " 'FI',\n",
                            " 'FR',\n",
                            " 'HR',\n",
                            " 'HU',\n",
                            " 'IT',\n",
                            " 'LI',\n",
                            " 'LV',\n",
                            " 'NL',\n",
                            " 'PL',\n",
                            " 'PT',\n",
                            " 'RO',\n",
                            " 'SK',\n",
                            " 'SL',\n",
                            " 'SV'}"
                        ]
                    },
                    "metadata": {},
                    "execution_count": 2
                }
            ],
            "metadata": {}
        },
        {
            "cell_type": "code",
            "execution_count": 4,
            "source": [
                "from db_stuff import db_connector\n",
                "\n",
                "db = db_connector()\n",
                "psql_insert_copy = db.psql_insert_copy\n"
            ],
            "outputs": [],
            "metadata": {}
        },
        {
            "cell_type": "code",
            "execution_count": 5,
            "source": [
                "version_id = db.get_version_id(DATA_VERSION)[0]\n",
                "\n",
                "for language in languages:\n",
                "    if 'keywords' in globals():\n",
                "        del keywords\n",
                "    print(language)\n",
                "    language_id = db.get_language_id(language)[0]\n",
                "    keywords = df_keywords[['KeywordID', language, 'FlagWithoutGermany']].copy()\n",
                "    keywords.loc[:, ('FlagWithoutGermany')] = keywords.apply(\n",
                "        lambda row: 0 if row.isna()[\"FlagWithoutGermany\"]\n",
                "        else 1,\n",
                "        axis=1\n",
                "    ).astype('bool')\n",
                "    keywords.loc[:,'language_id'] = language_id\n",
                "    keywords.loc[:,'version_id'] = version_id\n",
                "    keywords.rename(columns = {'KeywordID':'keyword_id', 'FlagWithoutGermany':'without_germany', language:'keyword', 'index':'id'}, inplace=True)\n",
                "    keywords = keywords[['keyword_id', 'language_id', 'version_id', 'without_germany', 'keyword']]\n",
                "    keywords.to_sql('l_keyword', db.engine, schema='trend', method=psql_insert_copy, if_exists='append', index=False)\n",
                "\n"
            ],
            "outputs": [
                {
                    "output_type": "stream",
                    "name": "stdout",
                    "text": [
                        "ES\n",
                        "PL\n",
                        "LI\n",
                        "SV\n",
                        "IT\n",
                        "PT\n",
                        "ET\n",
                        "RO\n",
                        "SK\n",
                        "EL\n",
                        "FR\n",
                        "FI\n",
                        "DE\n",
                        "HR\n",
                        "LV\n",
                        "DA\n",
                        "CS\n",
                        "BG\n",
                        "SL\n",
                        "EN\n",
                        "HU\n",
                        "NL\n"
                    ]
                }
            ],
            "metadata": {}
        }
    ],
    "metadata": {
        "orig_nbformat": 4,
        "language_info": {
            "name": "python",
            "version": "3.9.6",
            "mimetype": "text/x-python",
            "codemirror_mode": {
                "name": "ipython",
                "version": 3
            },
            "pygments_lexer": "ipython3",
            "nbconvert_exporter": "python",
            "file_extension": ".py"
        },
        "kernelspec": {
            "name": "python3",
            "display_name": "Python 3.9.6 64-bit"
        },
        "interpreter": {
            "hash": "4cd7ab41f5fca4b9b44701077e38c5ffd31fe66a6cab21e0214b68d958d0e462"
        }
    },
    "nbformat": 4,
    "nbformat_minor": 2
}