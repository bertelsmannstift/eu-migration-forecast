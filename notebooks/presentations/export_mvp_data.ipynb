{
 "cells": [
  {
   "cell_type": "code",
   "execution_count": 1,
   "metadata": {},
   "outputs": [],
   "source": [
    "import pandas as pd\n",
    "import sys \n",
    "sys.path.append('../../modules')\n",
    "import eumf_data as data\n",
    "import numpy as np\n",
    "from scipy import stats\n",
    "from statsmodels.api import tsa"
   ]
  },
  {
   "cell_type": "code",
   "execution_count": 2,
   "metadata": {},
   "outputs": [],
   "source": [
    "countries = {\n",
    "    \"FR\": \"Frankreich\",\n",
    "    \"GB\": \"Vereinigtes Königreich\",\n",
    "    \"IT\": \"Italien\",\n",
    "    \"ES\": \"Spanien\",\n",
    "    \"PL\": \"Polen\",\n",
    "    \"RO\": \"Rumänien\",\n",
    "    \"NL\": \"Niederlande\",\n",
    "    \"BE\": \"Belgien\",\n",
    "    \"GR\": \"Griechenland\",\n",
    "    \"CZ\": \"Tschechien\",\n",
    "    \"PT\": \"Portugal\",\n",
    "    \"SE\": \"Schweden\",\n",
    "    \"HU\": \"Ungarn\",\n",
    "    \"AT\": \"Österreich\",\n",
    "    \"CH\": \"Schweiz\",\n",
    "    \"BG\": \"Bulgarien\",\n",
    "    \"DK\": \"Dänemark\",\n",
    "    \"FI\": \"Finnland\",\n",
    "    \"SK\": \"Slowakei\",\n",
    "    \"IE\": \"Irland\",\n",
    "    \"HR\": \"Kroatien\",\n",
    "    \"LT\": \"Lettland\",\n",
    "    \"SI\": \"Slowenien\",\n",
    "    \"LV\": \"Litauen\",\n",
    "    \"EE\": \"Estland\",\n",
    "    \"CY\": \"Zypern\",\n",
    "    \"LU\": \"Luxemburg\",\n",
    "}\n",
    "\n",
    "def filter_panel(df, country_filter, column_names):\n",
    "    return (\n",
    "        df[column_names.keys()]\n",
    "        .rename(columns=column_names)\n",
    "        .stack()\n",
    "        .loc[pd.IndexSlice[:, country_filter], :]\n",
    "    )\n",
    "\n"
   ]
  },
  {
   "cell_type": "markdown",
   "metadata": {},
   "source": [
    "## Anmeldungen absolut"
   ]
  },
  {
   "cell_type": "code",
   "execution_count": 3,
   "metadata": {},
   "outputs": [],
   "source": [
    "rates = data.load_migration_rates_from_csv()\n",
    "\n",
    "rates_total = rates[\"value\"].sum().sort_values(ascending=False)\n",
    "rates_total.to_csv(\"data/mvp/anmeldungen_total.csv\")\n",
    "\n",
    "rates_yearly = rates.resample(\"1Y\").sum().transpose().droplevel(0)\n",
    "rates_yearly.columns = rates_yearly.columns.year\n",
    "rates_yearly.to_csv(\"data/mvp/anmeldungen_jaehrlich.csv\")\n",
    "\n",
    "rates = rates.rename(columns=countries)\n"
   ]
  },
  {
   "cell_type": "code",
   "execution_count": 4,
   "metadata": {},
   "outputs": [],
   "source": [
    "iso3 = {\n",
    "    \"FR\": \"FRA\",\n",
    "    \"GB\": \"GBR\",\n",
    "    \"IT\": \"ITA\",\n",
    "    \"ES\": \"ESP\",\n",
    "    \"PL\": \"POL\",\n",
    "    \"RO\": \"ROU\",\n",
    "    \"NL\": \"NLD\",\n",
    "    \"BE\": \"BEL\",\n",
    "    \"GR\": \"GRC\",\n",
    "    \"CZ\": \"CZE\",\n",
    "    \"PT\": \"PRT\",\n",
    "    \"SE\": \"SWE\",\n",
    "    \"HU\": \"HUN\",\n",
    "    \"AT\": \"AUT\",\n",
    "    \"CH\": \"CHE\",\n",
    "    \"BG\": \"BGR\",\n",
    "    \"DK\": \"DNK\",\n",
    "    \"FI\": \"FIN\",\n",
    "    \"SK\": \"SVK\",\n",
    "    \"IE\": \"IRL\",\n",
    "    \"HR\": \"HRV\",\n",
    "    \"LT\": \"LTU\",\n",
    "    \"SI\": \"SVN\",\n",
    "    \"LV\": \"LVA\",\n",
    "    \"EE\": \"EST\",\n",
    "    \"CY\": \"CYP\",\n",
    "    \"LU\": \"LUX\",\n",
    "}\n",
    "\n",
    "\n",
    "(\n",
    "    rates_yearly.rename(index=iso3)\n",
    "    .stack()\n",
    "    .rename(\"Anmeldungen\")\n",
    "    .to_frame()\n",
    "    .assign(dest=\"DEU\")\n",
    ").to_csv(\"data/mvp/anmeldungen_jaehrlich_stacked.csv\")\n",
    "\n"
   ]
  },
  {
   "cell_type": "code",
   "execution_count": 5,
   "metadata": {},
   "outputs": [],
   "source": [
    "coordinates = pd.read_table(\n",
    "    \"data/mvp/countries_codes_and_coordinates.csv\", sep=\",\", skipinitialspace=True\n",
    ")\n",
    "pd.merge(\n",
    "    coordinates[[\"Alpha-2 code\", \"Latitude (average)\", \"Longitude (average)\"]],\n",
    "    rates_yearly,  # .reset_index(),\n",
    "    left_on=\"Alpha-2 code\",\n",
    "    right_index=True,\n",
    "    # left_on=\"country\",\n",
    ").to_csv(\"data/mvp/anmeldungen_jaehrlich_coordinates.csv\")\n"
   ]
  },
  {
   "cell_type": "markdown",
   "metadata": {},
   "source": [
    "## Trends und Anmeldungen normiert"
   ]
  },
  {
   "cell_type": "code",
   "execution_count": 6,
   "metadata": {},
   "outputs": [],
   "source": [
    "trends = data.load_trends_from_csv().rename(columns=countries)\n",
    "\n",
    "df_trends = trends[\"2010-01-01\":]\n",
    "df_trends = df_trends / df_trends[\"2010-01-01\":\"2010-12-01\"].mean() * 100\n",
    "\n",
    "df_rates = rates\n",
    "df_rates = df_rates / df_rates[\"2010-01-01\":\"2010-12-01\"].mean() * 100\n",
    "\n",
    "keyword_labels = {}\n",
    "\n",
    "df_all = pd.concat([df_rates, df_trends], axis=1)\n",
    "df_all.stack().to_csv(\"data/mvp/all.csv\")\n",
    "\n"
   ]
  },
  {
   "cell_type": "code",
   "execution_count": null,
   "metadata": {},
   "outputs": [],
   "source": []
  },
  {
   "cell_type": "code",
   "execution_count": 7,
   "metadata": {},
   "outputs": [],
   "source": [
    "country_filter = (\"Italien\", \"Spanien\", \"Portugal\", \"Griechenland\")\n",
    "column_names = {\n",
    "    \"value\": \"Anmeldungen in Deutschland\",\n",
    "    \"19\": \"Suche nach Jobs in Deutschland (Google Trends Index)\",\n",
    "}\n",
    "\n",
    "filter_panel(df_all, country_filter, column_names).to_csv(\n",
    "    \"data/mvp/kw_19_suedeuropa.csv\"\n",
    ")\n",
    "\n"
   ]
  },
  {
   "cell_type": "code",
   "execution_count": 8,
   "metadata": {},
   "outputs": [],
   "source": [
    "country_filter = (\"Italien\", \"Spanien\", \"Portugal\", \"Griechenland\")\n",
    "column_names = {\n",
    "    \"value\": \"Anmeldungen in Deutschland\",\n",
    "    \"19\": \"Suche nach Jobs in Deutschland (Google Trends Index)\",\n",
    "}\n",
    "\n",
    "a = filter_panel(df_all, country_filter, column_names)\n",
    "b = filter_panel(df_all.rolling(\"365D\").mean(), country_filter, column_names)\n",
    "pd.merge(a, b, left_index=True, right_index=True).to_csv(\n",
    "    \"data/mvp/kw_19_suedeuropa_rolling.csv\"\n",
    ")\n",
    "\n"
   ]
  },
  {
   "cell_type": "code",
   "execution_count": 9,
   "metadata": {},
   "outputs": [],
   "source": [
    "country_filter = (\"Italien\", \"Spanien\", \"Portugal\", \"Griechenland\")\n",
    "column_names = {\n",
    "    \"value\": \"Anmeldungen in Deutschland\",\n",
    "    \"19\": \"Suche nach Jobs in Deutschland (Google Trends Index)\",\n",
    "}\n",
    "\n",
    "filter_panel(df_all.resample(\"3M\").mean()[\"2010-01-01\":\"2020-01-01\"], country_filter, column_names).to_csv(\n",
    "    \"data/mvp/kw_19_suedeuropa_quartal.csv\"\n",
    ")\n",
    "\n"
   ]
  },
  {
   "cell_type": "code",
   "execution_count": 300,
   "metadata": {},
   "outputs": [],
   "source": [
    "country_filter = countries.values()\n",
    "column_names = {\n",
    "    \"value\": \"Anmeldungen in Deutschland\",\n",
    "    \"19\": \"Suche nach Jobs in Deutschland (Google Trends Index)\",\n",
    "}\n",
    "\n",
    "filter_panel(df_all, country_filter, column_names).to_csv(\"data/mvp/kw_19.csv\")\n",
    "\n"
   ]
  },
  {
   "cell_type": "code",
   "execution_count": 301,
   "metadata": {},
   "outputs": [],
   "source": [
    "country_filter = \"Kroatien\"\n",
    "column_names = {\n",
    "    \"value\": \"Anmeldungen in Deutschland\",\n",
    "    \"19\": \"Suche nach Jobs in Deutschland (Google Trends Index)\",\n",
    "}\n",
    "\n",
    "filter_panel(df_all, country_filter, column_names).to_csv(\"data/mvp/kw_19_kroatien.csv\")"
   ]
  },
  {
   "cell_type": "code",
   "execution_count": 10,
   "metadata": {},
   "outputs": [],
   "source": [
    "country_filter = \"Kroatien\"\n",
    "column_names = {\n",
    "    \"value\": \"Anmeldungen in Deutschland\",\n",
    "    \"19\": \"Suche nach Jobs in Deutschland (Google Trends Index)\",\n",
    "}\n",
    "\n",
    "filter_panel(df_all.resample(\"3M\").mean()[\"2010-01-01\":\"2020-01-01\"], country_filter, column_names).to_csv(\"data/mvp/kw_19_kroatien_quartal.csv\")"
   ]
  },
  {
   "cell_type": "code",
   "execution_count": 12,
   "metadata": {},
   "outputs": [],
   "source": [
    "country_filter = \"Vereinigtes Königreich\"\n",
    "column_names = {\n",
    "    \"value\": \"Anmeldungen in Deutschland\",\n",
    "    \"19\": \"Suche nach Jobs in Deutschland (Google Trends Index)\",\n",
    "}\n",
    "\n",
    "filter_panel(df_all, country_filter, column_names).to_csv(\"data/mvp/kw_19_uk.csv\")"
   ]
  },
  {
   "cell_type": "code",
   "execution_count": 13,
   "metadata": {},
   "outputs": [],
   "source": [
    "country_filter = \"Vereinigtes Königreich\"\n",
    "column_names = {\n",
    "    \"value\": \"Anmeldungen in Deutschland\",\n",
    "    \"19\": \"Suche nach Jobs in Deutschland (Google Trends Index)\",\n",
    "}\n",
    "\n",
    "filter_panel(df_all.resample(\"3M\").mean()[\"2010-01-01\":\"2020-01-01\"], country_filter, column_names).to_csv(\"data/mvp/kw_19_uk_quartal.csv\")"
   ]
  },
  {
   "cell_type": "code",
   "execution_count": 303,
   "metadata": {},
   "outputs": [],
   "source": [
    "country_filter = \"Rumänien\"\n",
    "column_names = {\n",
    "    \"value\": \"Anmeldungen in Deutschland\",\n",
    "    \"19\": \"Suche nach Jobs in Deutschland (Google Trends Index)\",\n",
    "}\n",
    "\n",
    "filter_panel(df_all, country_filter, column_names).to_csv(\"data/mvp/kw_19_rumaenien.csv\")"
   ]
  },
  {
   "cell_type": "code",
   "execution_count": 14,
   "metadata": {},
   "outputs": [],
   "source": [
    "country_filter = \"Rumänien\"\n",
    "column_names = {\n",
    "    \"value\": \"Anmeldungen in Deutschland\",\n",
    "    \"19\": \"Suche nach Jobs in Deutschland (Google Trends Index)\",\n",
    "}\n",
    "\n",
    "filter_panel(df_all.resample(\"3M\").mean()[\"2010-01-01\":\"2020-01-01\"], country_filter, column_names).to_csv(\"data/mvp/kw_19_rumaenien_quartal.csv\")"
   ]
  },
  {
   "cell_type": "code",
   "execution_count": 304,
   "metadata": {},
   "outputs": [],
   "source": [
    "country_filter = \"Italien\"\n",
    "column_names = {\n",
    "    \"value\": \"Anmeldungen in Deutschland\",\n",
    "    \"55\": \"Google Trends Index\",\n",
    "}\n",
    "\n",
    "filter_panel(df_all, country_filter, column_names).to_csv(\"data/mvp/kw_55_italien.csv\")\n"
   ]
  },
  {
   "cell_type": "code",
   "execution_count": 305,
   "metadata": {},
   "outputs": [],
   "source": [
    "country_filter = \"Italien\"\n",
    "column_names = {\n",
    "    \"value\": \"Anmeldungen in Deutschland\",\n",
    "    \"33\": \"Google Trends Index\",\n",
    "}\n",
    "\n",
    "filter_panel(df_all, country_filter, column_names).to_csv(\"data/mvp/kw_33_italien.csv\")\n"
   ]
  },
  {
   "cell_type": "code",
   "execution_count": 306,
   "metadata": {},
   "outputs": [],
   "source": [
    "country_filter = (\"Italien\", \"Spanien\", \"Portugal\", \"Griechenland\")\n",
    "column_names = {\n",
    "    \"value\": \"Anmeldungen in Deutschland\",\n",
    "    \"24\": \"Suche nach Gehalt in Deutschland (Google Trends Index)\",\n",
    "}\n",
    "\n",
    "filter_panel(df_all, country_filter, column_names).to_csv(\n",
    "    \"data/mvp/kw_24_suedeuropa.csv\"\n",
    ")\n"
   ]
  },
  {
   "cell_type": "code",
   "execution_count": 307,
   "metadata": {},
   "outputs": [],
   "source": [
    "country_filter = (\n",
    "    \"Österreich\",\n",
    "    \"Schweiz\",\n",
    "    \"Niederlande\",\n",
    "    \"Rumänien\",\n",
    "    \"Polen\",\n",
    "    \"Vereinigtes Königreich\",\n",
    "    \"Frankreich\",\n",
    ")\n",
    "column_names = {\n",
    "    \"value\": \"Anmeldungen in Deutschland\",\n",
    "    \"24\": \"Suche nach Gehalt in Deutschland (Google Trends Index)\",\n",
    "}\n",
    "\n",
    "filter_panel(df_all, country_filter, column_names).to_csv(\"data/mvp/kw_24_andere.csv\")\n",
    "\n"
   ]
  },
  {
   "cell_type": "code",
   "execution_count": null,
   "metadata": {},
   "outputs": [],
   "source": [
    "country_filter = countries.values()\n",
    "column_names = {\n",
    "    \"value\": \"Anmeldungen in Deutschland\",\n",
    "    \"11\": \"Google Trends: Visum/Einreisebestimmungen Deutschland\",\n",
    "    \"14\": \"Google Trends: Rente Deutschland\",\n",
    "    \"19\": \"Google Trends: Jobs/Arbeit Deutschland\",\n",
    "    \"21\": \"Google Trends: Einkommen/Steuern Deutschland\",\n",
    "    \"22\": \"Google Trends: BIP Deutschland\",\n",
    "    \"24\": \"Google Trends: Gehalt Deutschland\",\n",
    "    \"26\": \"Google Trends: Wirtschaft Deutschland\",\n",
    "    \"37\": \"Google Trends: Abitur/Universität Deutschland\",\n",
    "    \"42\": \"Google Trends: Studium Deutschland\",\n",
    "    \"43\": \"Google Trends: Bachelor/Master/Promotion Deutschland\",\n",
    "    \"48\": \"Google Trends: Konto Deutschland\",\n",
    "    \"49\": \"Google Trends: Wohnung Deutschland\",\n",
    "    \"52\": \"Google Trends: Miete Deutschland\",\n",
    "    \"112\": \"Google Trends: Mindestlohn\",\n",
    "    \"113\": \"Google Trends: Sozialhilfe\",\n",
    "    \"114\": \"Google Trends: Rente\",\n",
    "    \"115\": \"Google Trends: Arbeitslosigkeit\",\n",
    "    \"117\": \"Google Trends: Inflation\",\n",
    "    \"118\": \"Google Trends: Arbeitslosengeld\",\n",
    "    \"119\": \"Google Trends: Arbeit\",\n",
    "    \"121\": \"Google Trends: Einkommen/Steuer\",\n",
    "    \"122\": \"Google Trends: BIP\",\n",
    "    \"123\": \"Google Trends: Jobs\",\n",
    "    \"124\": \"Google Trends: Gehalt\",\n",
    "    \"125\": \"Google Trends: Brutto/Netto/Zulagen\",\n",
    "}\n",
    "\n",
    "filter_panel(df_all.resample(\"3M\").mean(), country_filter, column_names).to_csv(\n",
    "    \"data/mvp/alles.csv\"\n",
    ")\n",
    "\n"
   ]
  },
  {
   "cell_type": "markdown",
   "metadata": {},
   "source": [
    "## Trends: transformierte Daten"
   ]
  },
  {
   "cell_type": "code",
   "execution_count": 15,
   "metadata": {},
   "outputs": [],
   "source": [
    "df_rates_trans = rates.resample(\"3M\").mean()[\"2010-01-01\":\"2019-12-31\"]\n",
    "# df_rates_trans = (\n",
    "#     (df_rates_trans - df_rates_trans.shift(12)) / df_rates_trans.shift(12) * 100\n",
    "# ) #/ df_rates_trans[\"2010-01-01\":\"2010-12-01\"].mean() * 100\n",
    "df_rates_trans = np.log(df_rates_trans + 10) - np.log(df_rates_trans.shift(4) + 10)\n",
    "\n",
    "df_trends_trans = trends.resample(\"3M\").mean()[\"2010-01-01\":\"2019-12-31\"]\n",
    "# df_trends_trans = (\n",
    "#     (df_trends_trans - df_trends_trans.shift(12)) / df_trends_trans.shift(12) * 100\n",
    "# )  # / df_trends_trans[\"2010-01-01\":\"2010-12-01\"].mean() * 100\n",
    "df_trends_trans = np.log(df_trends_trans + 1) - np.log(df_trends_trans.shift(4) + 1)\n",
    "\n",
    "\n",
    "df_all_trans = pd.concat((df_rates_trans, df_trends_trans), axis=1)\n"
   ]
  },
  {
   "cell_type": "code",
   "execution_count": 65,
   "metadata": {},
   "outputs": [],
   "source": [
    "country_filter = (\"Italien\", \"Spanien\", \"Portugal\", \"Griechenland\")\n",
    "column_names = {\n",
    "    \"value\": \"Anmeldungen in Deutschland\",\n",
    "    \"19\": \"Suche nach Jobs in Deutschland (Google Trends Index)\",\n",
    "}\n",
    "\n",
    "filter_panel(df_all_trans, country_filter, column_names).to_csv(\n",
    "    \"data/mvp/kw_19_suedeuropa_transformiert.csv\"\n",
    ")\n",
    "\n"
   ]
  },
  {
   "cell_type": "code",
   "execution_count": 18,
   "metadata": {},
   "outputs": [],
   "source": [
    "t_min = \"2011-01-01\"\n",
    "t_max = \"2019-01-01\"\n",
    "country_filter = (\"Griechenland\", \"Italien\", \"Portugal\", \"Spanien\")\n",
    "\n",
    "get_ccf = lambda c: tsa.ccf(\n",
    "    df_all_trans[\"value\", c][t_min:t_max], df_all_trans[\"19\", c][t_min:t_max], adjusted=False\n",
    ")\n",
    "df_ccf = pd.DataFrame({c: get_ccf(c)[:12] for c in country_filter})\n",
    "df_ccf.stack().rename(\"Suche nach Jobs vs. Anmeldungen\").to_csv(\"data/mvp/kw_19_suedeuropa_ccf.csv\")\n"
   ]
  }
 ],
 "metadata": {
  "interpreter": {
   "hash": "a79f535b8578ad7dca5aad943b8a2492bb80ddd6fa0d945d62d9439959f4ae13"
  },
  "kernelspec": {
   "display_name": "Python 3.9.1 64-bit ('eumf': conda)",
   "name": "python3"
  },
  "language_info": {
   "codemirror_mode": {
    "name": "ipython",
    "version": 3
   },
   "file_extension": ".py",
   "mimetype": "text/x-python",
   "name": "python",
   "nbconvert_exporter": "python",
   "pygments_lexer": "ipython3",
   "version": "3.9.7"
  },
  "orig_nbformat": 4
 },
 "nbformat": 4,
 "nbformat_minor": 2
}
