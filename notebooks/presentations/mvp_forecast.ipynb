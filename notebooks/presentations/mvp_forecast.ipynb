{
 "cells": [
  {
   "cell_type": "code",
   "execution_count": 1,
   "metadata": {},
   "outputs": [],
   "source": [
    "%load_ext autoreload\n",
    "%autoreload 2\n",
    "\n",
    "import pandas as pd\n",
    "import json\n",
    "import matplotlib.pyplot as plt\n",
    "from IPython.display import display\n",
    "import os\n",
    "import numpy as np\n",
    "import sys \n",
    "sys.path.append('../../modules')\n",
    "import eumf_data as data\n",
    "import eumf_eval as eval\n",
    "from sklearn import preprocessing\n",
    "from sklearn import pipeline\n",
    "from sklearn import dummy\n",
    "from sklearn import compose\n",
    "from sklearn import multioutput\n",
    "from sklearn import linear_model\n",
    "from sklearn import ensemble\n",
    "from sklearn import feature_selection\n",
    "from sklearn import model_selection\n",
    "\n",
    "pd.set_option('display.min_rows', 20)\n",
    "pd.set_option('display.max_rows', 100)\n",
    "pd.set_option('display.max_columns', 100)\n",
    "pd.set_option('display.width', 1000)\n",
    "pd.set_option('display.colheader_justify', 'center')\n",
    "pd.set_option('display.precision', 3)\n"
   ]
  },
  {
   "cell_type": "markdown",
   "metadata": {},
   "source": [
    "## Load Data"
   ]
  },
  {
   "cell_type": "code",
   "execution_count": 7,
   "metadata": {},
   "outputs": [],
   "source": [
    "values = data.load_migration_rates_from_csv()\n",
    "trends = data.load_trends_from_csv()\n",
    "countries = data.get_countries()\n",
    "keyword_ids = trends.columns.levels[0].tolist()\n",
    "\n",
    "\n",
    "# panel = pd.concat([values, trends], axis='columns')\n",
    "panel = values.join(trends, how=\"outer\")\n",
    "\n"
   ]
  },
  {
   "cell_type": "markdown",
   "metadata": {},
   "source": [
    "## Models"
   ]
  },
  {
   "cell_type": "code",
   "execution_count": 21,
   "metadata": {},
   "outputs": [
    {
     "data": {
      "text/plain": [
       "{'randomforestregressor__ccp_alpha': 0.0,\n",
       " 'randomforestregressor__max_depth': 8,\n",
       " 'randomforestregressor__max_features': 'auto',\n",
       " 'randomforestregressor__min_samples_leaf': 4,\n",
       " 'randomforestregressor__min_samples_split': 2}"
      ]
     },
     "metadata": {},
     "output_type": "display_data"
    },
    {
     "name": "stdout",
     "output_type": "stream",
     "text": [
      "Mean CV score:\n"
     ]
    },
    {
     "data": {
      "text/plain": [
       "fit_time                   0.197\n",
       "score_time                 0.009\n",
       "test_mae                  -0.076\n",
       "test_rmse                 -0.108\n",
       "test_explained_variance    0.454\n",
       "test_r2                    0.427\n",
       "dtype: float64"
      ]
     },
     "metadata": {},
     "output_type": "display_data"
    },
    {
     "name": "stdout",
     "output_type": "stream",
     "text": [
      "OOS score:\n"
     ]
    },
    {
     "data": {
      "text/plain": [
       "mae                  -0.092\n",
       "rmse                 -0.176\n",
       "explained_variance    0.196\n",
       "r2                    0.157\n",
       "dtype: float64"
      ]
     },
     "metadata": {},
     "output_type": "display_data"
    }
   ],
   "source": [
    "t_min = \"2012-01-01\"\n",
    "t_max = \"2019-12-01\"\n",
    "t_split_lower = \"2017-12-01\"\n",
    "t_split_upper = \"2018-01-01\"\n",
    "\n",
    "panel_resampled = panel.resample(\"3M\").mean()\n",
    "panel_lags = data.create_lags(\n",
    "    panel_resampled, lags=[1, 2, 3, 4], columns=[\"19\", \"value\"]\n",
    ").fillna(0.0)\n",
    "\n",
    "x = panel_lags\n",
    "# x.columns = [\"_\".join(col) for col in x.columns.values]  # flatten columns from x\n",
    "y = panel_resampled[\"value\"]\n",
    "\n",
    "# transformation: differencing + stacking\n",
    "x_trans = np.log(x+1) - np.log(x.shift(4)+1)\n",
    "y_trans = np.log(y+10) - np.log(y.shift(4)+10)\n",
    "\n",
    "x_trans_stack = x_trans.stack().reset_index(level=1)\n",
    "y_trans_stack = y_trans.stack().droplevel(level=1)\n",
    "\n",
    "x_train = x_trans_stack[t_min:t_split_lower]\n",
    "y_train = y_trans_stack[t_min:t_split_lower]\n",
    "x_test = x_trans_stack[t_split_upper:t_max]\n",
    "y_test = y_trans_stack[t_split_upper:t_max]\n",
    "\n",
    "# cv = model_selection.TimeSeriesSplit(n_splits=5, test_size=4)\n",
    "cv = model_selection.KFold(n_splits=6)\n",
    "\n",
    "ct = compose.make_column_transformer(\n",
    "    (preprocessing.OneHotEncoder(), [\"country\"]),\n",
    "    remainder=\"passthrough\",\n",
    "    sparse_threshold=0,\n",
    ")\n",
    "\n",
    "reg = pipeline.make_pipeline(ct, ensemble.RandomForestRegressor(random_state=0),)\n",
    "\n",
    "hptuner = model_selection.GridSearchCV(\n",
    "    reg,\n",
    "    {\n",
    "        \"randomforestregressor__min_samples_split\": [2],\n",
    "        \"randomforestregressor__max_depth\": [8],\n",
    "        \"randomforestregressor__ccp_alpha\": [0.0, 0.01, 0.05],\n",
    "        \"randomforestregressor__min_samples_leaf\": [4],\n",
    "        \"randomforestregressor__max_features\": [\"auto\", \"sqrt\", \"log2\"]\n",
    "    },\n",
    "    cv=cv,\n",
    "    scoring=eval.scorer_rmse,\n",
    "    n_jobs=-1,\n",
    ")\n",
    "hptuner.fit(x_train, y_train)\n",
    "reg = hptuner.best_estimator_\n",
    "display(hptuner.best_params_)\n",
    "\n",
    "cv_score = eval.score_cv(reg, x_train, y_train, cv=cv)\n",
    "test_score = eval.score_test(reg, x_test, y_test)\n",
    "\n",
    "print(\"Mean CV score:\")\n",
    "display(cv_score.mean())\n",
    "\n",
    "print(\"OOS score:\")\n",
    "display(test_score)\n"
   ]
  },
  {
   "cell_type": "code",
   "execution_count": 22,
   "metadata": {},
   "outputs": [
    {
     "data": {
      "text/plain": [
       "19_1       0.031\n",
       "19_2       0.019\n",
       "19_3       0.030\n",
       "19_4       0.023\n",
       "value_1    0.772\n",
       "value_2    0.043\n",
       "value_3    0.028\n",
       "value_4    0.043\n",
       "dtype: float64"
      ]
     },
     "execution_count": 22,
     "metadata": {},
     "output_type": "execute_result"
    }
   ],
   "source": [
    "pd.Series(reg.steps[-1][1].feature_importances_[-8:], index=x_trans_stack.columns[1:])"
   ]
  },
  {
   "cell_type": "code",
   "execution_count": 25,
   "metadata": {},
   "outputs": [],
   "source": [
    "pred_arr = reg.predict(x_trans_stack[t_min:t_max])\n",
    "y_pred_trans = pd.Series(pred_arr, index=y[t_min:t_max].stack().index).unstack()\n",
    "y_pred = np.exp(y_pred_trans) * (y.shift(4) + 10) - 10\n",
    "\n",
    "#y_pred_trans_cv\n",
    "# y_trans\n",
    "\n"
   ]
  },
  {
   "cell_type": "code",
   "execution_count": 24,
   "metadata": {},
   "outputs": [],
   "source": [
    "country_names = {\n",
    "    \"FR\": \"Frankreich\",\n",
    "    \"GB\": \"Vereinigtes Königreich\",\n",
    "    \"IT\": \"Italien\",\n",
    "    \"ES\": \"Spanien\",\n",
    "    \"PL\": \"Polen\",\n",
    "    \"RO\": \"Rumänien\",\n",
    "    \"NL\": \"Niederlande\",\n",
    "    \"BE\": \"Belgien\",\n",
    "    \"GR\": \"Griechenland\",\n",
    "    \"CZ\": \"Tschechien\",\n",
    "    \"PT\": \"Portugal\",\n",
    "    \"SE\": \"Schweden\",\n",
    "    \"HU\": \"Ungarn\",\n",
    "    \"AT\": \"Österreich\",\n",
    "    \"CH\": \"Schweiz\",\n",
    "    \"BG\": \"Bulgarien\",\n",
    "    \"DK\": \"Dänemark\",\n",
    "    \"FI\": \"Finnland\",\n",
    "    \"SK\": \"Slowakei\",\n",
    "    \"IE\": \"Irland\",\n",
    "    \"HR\": \"Kroatien\",\n",
    "    \"LT\": \"Lettland\",\n",
    "    \"SI\": \"Slowenien\",\n",
    "    \"LV\": \"Litauen\",\n",
    "    \"EE\": \"Estland\",\n",
    "    \"CY\": \"Zypern\",\n",
    "    \"LU\": \"Luxemburg\",\n",
    "}"
   ]
  },
  {
   "cell_type": "code",
   "execution_count": 26,
   "metadata": {},
   "outputs": [],
   "source": [
    "(\n",
    "    pd.concat(\n",
    "        {\n",
    "            \"Anmeldungen in Deutschland\": y_trans[\"2011-01-01\":t_max],\n",
    "            \"Vorhersage\": y_pred_trans[t_min:t_max],\n",
    "        },\n",
    "        axis=1,\n",
    "    )\n",
    "    .stack()\n",
    "    .loc[pd.IndexSlice[:, [\"IT\", \"ES\", \"PT\", \"GR\"]],]\n",
    "    .rename(country_names)\n",
    ").to_csv(\"data/mvp/forecast_suedeuropa_transformiert.csv\")\n",
    "\n"
   ]
  },
  {
   "cell_type": "code",
   "execution_count": 35,
   "metadata": {},
   "outputs": [],
   "source": [
    "(\n",
    "    (\n",
    "        pd.concat(\n",
    "            {\n",
    "                \"Anmeldungen in Deutschland\": y[\"2011-01-01\":t_max]/y[\"2010-01-01\":\"2010-12-01\"].mean() * 100,\n",
    "                \"Vorhersage\": y_pred[t_min:t_max]/y[\"2010-01-01\":\"2010-12-01\"].mean() * 100,\n",
    "            },\n",
    "            axis=1,\n",
    "        )\n",
    "        # / y[\"2010-01-01\":\"2010-12-31\"]\n",
    "        # * 100\n",
    "    )\n",
    "    .stack()\n",
    "    .loc[pd.IndexSlice[:, [\"IT\", \"ES\", \"PT\", \"GR\"]],]\n",
    "    .rename(country_names)\n",
    ").to_csv(\"data/mvp/forecast_suedeuropa.csv\")\n",
    "\n"
   ]
  },
  {
   "cell_type": "code",
   "execution_count": 28,
   "metadata": {},
   "outputs": [
    {
     "data": {
      "text/plain": [
       "{'randomforestregressor__ccp_alpha': 0.0,\n",
       " 'randomforestregressor__max_depth': 8,\n",
       " 'randomforestregressor__max_features': 'auto',\n",
       " 'randomforestregressor__min_samples_leaf': 4,\n",
       " 'randomforestregressor__min_samples_split': 2}"
      ]
     },
     "metadata": {},
     "output_type": "display_data"
    },
    {
     "name": "stdout",
     "output_type": "stream",
     "text": [
      "Mean CV score:\n"
     ]
    },
    {
     "data": {
      "text/plain": [
       "fit_time                   0.160\n",
       "score_time                 0.010\n",
       "test_mae                  -0.079\n",
       "test_rmse                 -0.110\n",
       "test_explained_variance    0.435\n",
       "test_r2                    0.399\n",
       "dtype: float64"
      ]
     },
     "metadata": {},
     "output_type": "display_data"
    },
    {
     "name": "stdout",
     "output_type": "stream",
     "text": [
      "OOS score:\n"
     ]
    },
    {
     "data": {
      "text/plain": [
       "mae                  -0.091\n",
       "rmse                 -0.176\n",
       "explained_variance    0.195\n",
       "r2                    0.155\n",
       "dtype: float64"
      ]
     },
     "metadata": {},
     "output_type": "display_data"
    }
   ],
   "source": [
    "t_min = \"2012-01-01\"\n",
    "t_max = \"2019-12-01\"\n",
    "t_split_lower = \"2017-12-01\"\n",
    "t_split_upper = \"2018-01-01\"\n",
    "\n",
    "panel_resampled = panel.resample(\"3M\").mean()\n",
    "panel_lags = data.create_lags(\n",
    "    panel_resampled, lags=[1, 2, 3, 4], columns=[\"value\"]\n",
    ").fillna(0.0)\n",
    "\n",
    "x = panel_lags\n",
    "# x.columns = [\"_\".join(col) for col in x.columns.values]  # flatten columns from x\n",
    "y = panel_resampled[\"value\"]\n",
    "\n",
    "# transformation: differencing + stacking\n",
    "x_trans = np.log(x+1) - np.log(x.shift(4)+1)\n",
    "y_trans = np.log(y+10) - np.log(y.shift(4)+10)\n",
    "\n",
    "x_trans_stack = x_trans.stack().reset_index(level=1)\n",
    "y_trans_stack = y_trans.stack().droplevel(level=1)\n",
    "\n",
    "x_train = x_trans_stack[t_min:t_split_lower]\n",
    "y_train = y_trans_stack[t_min:t_split_lower]\n",
    "x_test = x_trans_stack[t_split_upper:t_max]\n",
    "y_test = y_trans_stack[t_split_upper:t_max]\n",
    "\n",
    "# cv = model_selection.TimeSeriesSplit(n_splits=5, test_size=4)\n",
    "cv = model_selection.KFold(n_splits=6)\n",
    "\n",
    "ct = compose.make_column_transformer(\n",
    "    (preprocessing.OneHotEncoder(), [\"country\"]),\n",
    "    remainder=\"passthrough\",\n",
    "    sparse_threshold=0,\n",
    ")\n",
    "\n",
    "reg = pipeline.make_pipeline(ct, ensemble.RandomForestRegressor(random_state=0),)\n",
    "\n",
    "hptuner = model_selection.GridSearchCV(\n",
    "    reg,\n",
    "    {\n",
    "        \"randomforestregressor__min_samples_split\": [2],\n",
    "        \"randomforestregressor__max_depth\": [8],\n",
    "        \"randomforestregressor__ccp_alpha\": [0.0, 0.01, 0.05],\n",
    "        \"randomforestregressor__min_samples_leaf\": [4],\n",
    "        \"randomforestregressor__max_features\": [\"auto\", \"sqrt\", \"log2\"]\n",
    "    },\n",
    "    cv=cv,\n",
    "    scoring=eval.scorer_rmse,\n",
    "    n_jobs=-1,\n",
    ")\n",
    "hptuner.fit(x_train, y_train)\n",
    "reg = hptuner.best_estimator_\n",
    "display(hptuner.best_params_)\n",
    "\n",
    "cv_score = eval.score_cv(reg, x_train, y_train, cv=cv)\n",
    "test_score = eval.score_test(reg, x_test, y_test)\n",
    "\n",
    "print(\"Mean CV score:\")\n",
    "display(cv_score.mean())\n",
    "\n",
    "print(\"OOS score:\")\n",
    "display(test_score)\n"
   ]
  },
  {
   "cell_type": "code",
   "execution_count": 29,
   "metadata": {},
   "outputs": [],
   "source": [
    "pred_arr_2 = reg.predict(x_trans_stack[t_min:t_max])\n",
    "y_pred_trans_2 = pd.Series(pred_arr_2, index=y[t_min:t_max].stack().index).unstack()\n",
    "# y_pred = np.exp(y_pred_trans) * (y.shift(4) + 10) - 10\n",
    "\n",
    "#y_pred_trans_cv\n",
    "# y_trans\n",
    "\n"
   ]
  },
  {
   "cell_type": "code",
   "execution_count": 31,
   "metadata": {},
   "outputs": [],
   "source": [
    "(\n",
    "    pd.concat(\n",
    "        {\n",
    "            \"Anmeldungen in Deutschland\": y_trans[\"2011-01-01\":t_max],\n",
    "            \"Vorhersage\": y_pred_trans_2[t_min:t_max],\n",
    "        },\n",
    "        axis=1,\n",
    "    )\n",
    "    .stack()\n",
    "    .loc[pd.IndexSlice[:, [\"IT\", \"ES\", \"PT\", \"GR\"]],]\n",
    "    .rename(country_names)\n",
    ").to_csv(\"data/mvp/forecast_suedeuropa_nogoogle_transformiert.csv\")\n",
    "\n"
   ]
  },
  {
   "cell_type": "code",
   "execution_count": 30,
   "metadata": {},
   "outputs": [],
   "source": [
    "(\n",
    "    pd.concat(\n",
    "        {\n",
    "            \"Anmeldungen in Deutschland\": y_trans[\"2011-01-01\":t_max],\n",
    "            \"Vorhersage (ohne Google Trends)\": y_pred_trans_2[t_min:t_max],\n",
    "            \"Vorhersage (mit Google Trends)\": y_pred_trans[t_min:t_max],\n",
    "        },\n",
    "        axis=1,\n",
    "    )\n",
    "    .stack()\n",
    "    .loc[pd.IndexSlice[:, [\"IT\", \"ES\", \"PT\", \"GR\"]],]\n",
    "    .rename(country_names)\n",
    ").to_csv(\"data/mvp/forecast_suedeuropa_beide_transformiert.csv\")\n",
    "\n"
   ]
  },
  {
   "cell_type": "code",
   "execution_count": null,
   "metadata": {},
   "outputs": [],
   "source": []
  }
 ],
 "metadata": {
  "interpreter": {
   "hash": "a79f535b8578ad7dca5aad943b8a2492bb80ddd6fa0d945d62d9439959f4ae13"
  },
  "kernelspec": {
   "display_name": "Python 3.9.1 64-bit ('eumf': conda)",
   "name": "python3"
  },
  "language_info": {
   "codemirror_mode": {
    "name": "ipython",
    "version": 3
   },
   "file_extension": ".py",
   "mimetype": "text/x-python",
   "name": "python",
   "nbconvert_exporter": "python",
   "pygments_lexer": "ipython3",
   "version": "3.9.7"
  },
  "orig_nbformat": 4
 },
 "nbformat": 4,
 "nbformat_minor": 2
}
